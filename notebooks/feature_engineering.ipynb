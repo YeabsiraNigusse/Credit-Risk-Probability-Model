{
 "cells": [
  {
   "cell_type": "code",
   "execution_count": 1,
   "metadata": {},
   "outputs": [],
   "source": [
    "# 1) SETUP -----------------------------------------------------------------\n",
    "import sys, os\n",
    "\n",
    "# Add the parent directory (project root) to Python’s module search path\n",
    "sys.path.insert(0, os.path.abspath('..'))\n",
    "\n",
    "import pandas as pd\n",
    "from src.features import build_pipeline\n",
    "\n",
    "df = pd.read_csv(\"../data/raw/data.csv\")\n",
    "pipeline = build_pipeline()\n",
    "processed = pipeline.fit_transform(df)\n",
    "\n",
    "# Optional: get feature names\n",
    "from sklearn.compose import ColumnTransformer\n",
    "preprocessor = pipeline.named_steps['preprocessing']\n",
    "feature_names = preprocessor.get_feature_names_out()\n",
    "\n",
    "processed_df = pd.DataFrame(processed, columns=feature_names)\n",
    "processed_df.to_csv(\"../data/processed/processed_features.csv\", index=False)\n",
    "\n"
   ]
  },
  {
   "cell_type": "code",
   "execution_count": null,
   "metadata": {},
   "outputs": [],
   "source": []
  },
  {
   "cell_type": "code",
   "execution_count": null,
   "metadata": {},
   "outputs": [],
   "source": []
  },
  {
   "cell_type": "code",
   "execution_count": null,
   "metadata": {},
   "outputs": [],
   "source": []
  }
 ],
 "metadata": {
  "kernelspec": {
   "display_name": ".venv",
   "language": "python",
   "name": "python3"
  },
  "language_info": {
   "codemirror_mode": {
    "name": "ipython",
    "version": 3
   },
   "file_extension": ".py",
   "mimetype": "text/x-python",
   "name": "python",
   "nbconvert_exporter": "python",
   "pygments_lexer": "ipython3",
   "version": "3.12.3"
  }
 },
 "nbformat": 4,
 "nbformat_minor": 2
}

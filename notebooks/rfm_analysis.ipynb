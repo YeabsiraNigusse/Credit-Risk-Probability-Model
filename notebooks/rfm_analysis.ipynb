{
 "cells": [
  {
   "cell_type": "code",
   "execution_count": 6,
   "metadata": {},
   "outputs": [],
   "source": [
    "# 1) SETUP -----------------------------------------------------------------\n",
    "import sys, os\n",
    "\n",
    "# Add the parent directory (project root) to Python’s module search path\n",
    "sys.path.insert(0, os.path.abspath('..'))\n",
    "\n",
    "import pandas as pd\n",
    "from src.rfm import compute_rfm, scale_rfm, perform_kmeans, label_high_risk_cluster\n",
    "\n",
    "df = pd.read_csv(\"../data/raw/data.csv\")\n",
    "df['TransactionStartTime'] = pd.to_datetime(df['TransactionStartTime'])\n",
    "\n",
    "snapshot_date = df['TransactionStartTime'].max() + pd.Timedelta(days=1)\n",
    "\n",
    "rfm = compute_rfm(df, snapshot_date)\n",
    "rfm_scaled, scaler = scale_rfm(rfm)\n",
    "clusters, kmeans = perform_kmeans(rfm_scaled)\n",
    "\n",
    "rfm['Cluster'] = clusters\n",
    "rfm, profile, high_risk_cluster = label_high_risk_cluster(rfm)\n",
    "\n",
    "# Merge risk label with features\n",
    "features = pd.read_csv(\"../data/processed/processed_features.csv\")\n",
    "features['CustomerId'] = df['CustomerId'].values\n",
    "merged = features.merge(rfm[['CustomerId', 'is_high_risk']], on='CustomerId', how='left')\n",
    "merged.to_csv(\"../data/processed/features_with_labels.csv\", index=False)\n",
    "\n"
   ]
  },
  {
   "cell_type": "code",
   "execution_count": null,
   "metadata": {},
   "outputs": [],
   "source": []
  }
 ],
 "metadata": {
  "kernelspec": {
   "display_name": ".venv",
   "language": "python",
   "name": "python3"
  },
  "language_info": {
   "codemirror_mode": {
    "name": "ipython",
    "version": 3
   },
   "file_extension": ".py",
   "mimetype": "text/x-python",
   "name": "python",
   "nbconvert_exporter": "python",
   "pygments_lexer": "ipython3",
   "version": "3.12.3"
  }
 },
 "nbformat": 4,
 "nbformat_minor": 2
}
